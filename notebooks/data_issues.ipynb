{
 "cells": [
  {
   "cell_type": "code",
   "execution_count": 41,
   "metadata": {},
   "outputs": [],
   "source": [
    "import pandas as pd\n",
    "import random"
   ]
  },
  {
   "cell_type": "code",
   "execution_count": 42,
   "metadata": {},
   "outputs": [],
   "source": [
    "# Read your dataset\n",
    "main_raw_data = pd.read_csv(\"../JB_dataset/raw/telco_churn_data.csv\")"
   ]
  },
  {
   "cell_type": "code",
   "execution_count": 43,
   "metadata": {},
   "outputs": [],
   "source": [
    "# Function to introduce data issues\n",
    "def introduce_data_issues(main_raw_data):\n",
    "    # Randomly select an issue type\n",
    "    issue_type = random.choice([\n",
    "        'missing_column',\n",
    "        'missing_values',\n",
    "        'Total Customer Svc Requests',\n",
    "        'unknown_category',\n",
    "        'wrong_value',\n",
    "        'string_in_numerical',\n",
    "        'duplicate_rows',\n",
    "        'inconsistent_data'\n",
    "    ])\n",
    "    if issue_type == 'missing_column':\n",
    "        main_raw_data = main_raw_data.drop(columns=['Monthly Charge'], errors='ignore') # Remove 'Monthly Charge' column\n",
    "    \n",
    "    elif issue_type == 'missing_values':\n",
    "        main_raw_data.loc[main_raw_data.sample(frac=0.1).index, 'Tenure in Months'] = None # Set 10% of 'Tenure in Months' to NaN\n",
    "    \n",
    "    elif issue_type == 'Total Customer Svc Requests':\n",
    "        main_raw_data.loc[main_raw_data.sample(frac=0.05).index, 'Total Customer Svc Requests'] = 10000 # Introduce an outlier value (1000) for 'Total Customer Svc Requests'\n",
    "    \n",
    "    elif issue_type == 'unknown_category':\n",
    "        main_raw_data.loc[main_raw_data.sample(frac=0.1).index, 'Offer'] = 'Unknown Offer' # Introduce 'Unknown Offer' as an unknown category in 'Offer'\n",
    "    \n",
    "    elif issue_type == 'wrong_value':\n",
    "        main_raw_data.loc[main_raw_data.sample(frac=0.1).index, 'Tenure in Months'] = -12 # Set wrong values for 'Tenure in Months' (e.g., negative values)\n",
    "    \n",
    "    elif issue_type == 'string_in_numerical':\n",
    "        main_raw_data.loc[main_raw_data.sample(frac=0.1).index, 'Avg Monthly Long Distance Charges'] = 'InvalidString' # Insert a string ('InvalidString') in a numerical column ('Avg Monthly Long Distance Charges')\n",
    "    \n",
    "    elif issue_type == 'duplicate_rows':\n",
    "        main_raw_data = pd.concat([main_raw_data, main_raw_data.sample(frac=0.05)], ignore_index=True) # Introduce duplicate rows (5% of data)\n",
    "    \n",
    "    elif issue_type == 'inconsistent_data':\n",
    "        main_raw_data.loc[main_raw_data.sample(frac=0.1).index, 'Gender'] = 'Unknown'  # Set inconsistent 'Gender' values to 'Unknown'\n",
    "    \n",
    "    return main_raw_data\n",
    "\n",
    "# Apply data issues randomly\n",
    "main_raw_data_with_issues = introduce_data_issues(main_raw_data)\n",
    "\n",
    "# Save the modified dataset with issues\n",
    "main_raw_data_with_issues.to_csv('../JB_dataset/raw_data_with_issues/main_raw_data_with_issues.csv', index=False)\n"
   ]
  }
 ],
 "metadata": {
  "kernelspec": {
   "display_name": "base",
   "language": "python",
   "name": "python3"
  },
  "language_info": {
   "codemirror_mode": {
    "name": "ipython",
    "version": 3
   },
   "file_extension": ".py",
   "mimetype": "text/x-python",
   "name": "python",
   "nbconvert_exporter": "python",
   "pygments_lexer": "ipython3",
   "version": "3.9.1"
  }
 },
 "nbformat": 4,
 "nbformat_minor": 2
}
